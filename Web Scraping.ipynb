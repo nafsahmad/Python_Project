{
 "cells": [
  {
   "cell_type": "markdown",
   "id": "56ba66e1",
   "metadata": {},
   "source": [
    "# Scraping Data from eBay for Business Intelligence"
   ]
  },
  {
   "cell_type": "markdown",
   "id": "5692fa78",
   "metadata": {},
   "source": [
    "### Background:\n",
    "ABC Analytics, is a business intelligence and data analytics firm specializing in providing valuable insights to e-commerce businesses. One of our clients is interested in gaining a competitive edge by analyzing pricing trends, product popularity, and customer behavior on eBay. To achieve this, we'll need to scrape data from eBay to feed into their business intelligence tools.\n",
    "\n",
    "### Objective:\n",
    "Our goal is to scrape data from eBay to gather valuable information for our client's business intelligence analysis, including pricing trends, product listings, and seller performance metrics."
   ]
  },
  {
   "cell_type": "markdown",
   "id": "23546c29",
   "metadata": {},
   "source": [
    "#### Import all libraries required"
   ]
  },
  {
   "cell_type": "code",
   "execution_count": 1,
   "id": "93bbc358",
   "metadata": {},
   "outputs": [],
   "source": [
    "import requests\n",
    "import pandas as pd\n",
    "from bs4 import BeautifulSoup\n",
    "import matplotlib.pyplot as plt\n",
    "import seaborn as sns\n",
    "from prettytable import PrettyTable"
   ]
  },
  {
   "cell_type": "markdown",
   "id": "aa7f8a16",
   "metadata": {},
   "source": [
    "#### Extract the HTML content"
   ]
  },
  {
   "cell_type": "code",
   "execution_count": 2,
   "id": "d4c7832a",
   "metadata": {},
   "outputs": [],
   "source": [
    "url_pattern = 'https://www.ebay.com/sch/267/i.html?_from=R40&_nkw=Business+Intelligence+&rt=nc'"
   ]
  },
  {
   "cell_type": "code",
   "execution_count": 3,
   "id": "1fd3983a",
   "metadata": {},
   "outputs": [],
   "source": [
    "# create an empty list to store the scraped data\n",
    "product_data = []\n",
    "\n",
    "# iterate over the page numbers\n",
    "for page_num in range(1, 11):   # scrape data from page 1 to 10\n",
    "    # create the url for the current page\n",
    "    url = url_pattern.format(page_num=page_num)"
   ]
  },
  {
   "cell_type": "code",
   "execution_count": 4,
   "id": "6e0b4609",
   "metadata": {},
   "outputs": [],
   "source": [
    "#send a GET request to the URL and extract the HTML content\n",
    "\n",
    "response = requests.get(url)\n",
    "content = response.content"
   ]
  },
  {
   "cell_type": "code",
   "execution_count": 5,
   "id": "52db93cb",
   "metadata": {},
   "outputs": [],
   "source": [
    "#Use Beautiful Soup to parse the HTML content\n",
    "\n",
    "soup = BeautifulSoup(content, 'html.parser')"
   ]
  },
  {
   "cell_type": "markdown",
   "id": "1691cbde",
   "metadata": {},
   "source": [
    "#### Extract the product information needed"
   ]
  },
  {
   "cell_type": "code",
   "execution_count": 6,
   "id": "e7072121",
   "metadata": {},
   "outputs": [],
   "source": [
    "items = soup.find_all('div', {'class': 's-item__wrapper clearfix'})\n",
    "    \n",
    "\n",
    "for item in items:\n",
    "    title = item.find('div', {'class': 's-item__title'}).text.strip()\n",
    "    \n",
    "    price_sold = float(item.find('span', {'class': 's-item__price'}).text.replace('$','').replace(',','').strip())\n",
    "    shipping_cost = item.find('span', {'class': 's-item__shipping s-item__logisticsCost'})\n",
    "    if shipping_cost:\n",
    "        shipping_cost = shipping_cost.text.replace('+','').replace('$','').replace(',','').strip()\n",
    "    else:\n",
    "        shipping_cost = 0.0\n",
    "    item_location = item.find('span', {'class': 's-item__location s-item__itemLocation'})\n",
    "    if item_location:\n",
    "        item_location = item_location.text.replace('from','').strip()\n",
    "    else:\n",
    "        item_location = ''\n",
    "    item_seller = item.find('span', {'class':'s-item__seller-info'})\n",
    "    if item_seller:\n",
    "        item_seller = item_seller.text.strip()\n",
    "    else:\n",
    "        item_seller = ''\n",
    "    link = item.find('a', {'class': 's-item__link'})['href']\n",
    "    product_data.append([title, price_sold, shipping_cost, item_location, item_seller, link])\n",
    "    \n",
    "book_data = pd.DataFrame(product_data, columns=['Title', 'Price_sold', 'Shipping_cost', 'Item_location','Item_seller', 'Link'])"
   ]
  },
  {
   "cell_type": "markdown",
   "id": "78181c7b",
   "metadata": {},
   "source": [
    "#### View data"
   ]
  },
  {
   "cell_type": "code",
   "execution_count": 7,
   "id": "65126a0e",
   "metadata": {},
   "outputs": [
    {
     "data": {
      "text/html": [
       "<div>\n",
       "<style scoped>\n",
       "    .dataframe tbody tr th:only-of-type {\n",
       "        vertical-align: middle;\n",
       "    }\n",
       "\n",
       "    .dataframe tbody tr th {\n",
       "        vertical-align: top;\n",
       "    }\n",
       "\n",
       "    .dataframe thead th {\n",
       "        text-align: right;\n",
       "    }\n",
       "</style>\n",
       "<table border=\"1\" class=\"dataframe\">\n",
       "  <thead>\n",
       "    <tr style=\"text-align: right;\">\n",
       "      <th></th>\n",
       "      <th>Title</th>\n",
       "      <th>Price_sold</th>\n",
       "      <th>Shipping_cost</th>\n",
       "      <th>Item_location</th>\n",
       "      <th>Item_seller</th>\n",
       "      <th>Link</th>\n",
       "    </tr>\n",
       "  </thead>\n",
       "  <tbody>\n",
       "    <tr>\n",
       "      <th>0</th>\n",
       "      <td>Shop on eBay</td>\n",
       "      <td>20.00</td>\n",
       "      <td>0.0</td>\n",
       "      <td></td>\n",
       "      <td></td>\n",
       "      <td>https://ebay.com/itm/123456?hash=item28caef0a3...</td>\n",
       "    </tr>\n",
       "    <tr>\n",
       "      <th>1</th>\n",
       "      <td>Influence and Persuasion (HBR Emotional Intell...</td>\n",
       "      <td>6.06</td>\n",
       "      <td>9.11 shipping</td>\n",
       "      <td>United Kingdom</td>\n",
       "      <td>worldofbooks08 (9,072,810) 99.1%</td>\n",
       "      <td>https://www.ebay.com/itm/143585166181?epid=239...</td>\n",
       "    </tr>\n",
       "    <tr>\n",
       "      <th>2</th>\n",
       "      <td>Power BI - Business Intelligence Clinic: Creat...</td>\n",
       "      <td>14.99</td>\n",
       "      <td>30.57 shipping</td>\n",
       "      <td>United States</td>\n",
       "      <td>chev1967_138 (563) 100%</td>\n",
       "      <td>https://www.ebay.com/itm/186043394348?epid=603...</td>\n",
       "    </tr>\n",
       "    <tr>\n",
       "      <th>3</th>\n",
       "      <td>Intelligent Investor: The Definitive Book on V...</td>\n",
       "      <td>12.13</td>\n",
       "      <td>9.11 shipping</td>\n",
       "      <td>United Kingdom</td>\n",
       "      <td>worldofbooks08 (9,072,810) 99.1%</td>\n",
       "      <td>https://www.ebay.com/itm/304442680952?epid=872...</td>\n",
       "    </tr>\n",
       "    <tr>\n",
       "      <th>4</th>\n",
       "      <td>Isaack Onyango Business Intelligence (Hardback)</td>\n",
       "      <td>208.80</td>\n",
       "      <td>3.63 shipping</td>\n",
       "      <td>United Kingdom</td>\n",
       "      <td>rarewaves-outlet (992,371) 98.8%</td>\n",
       "      <td>https://www.ebay.com/itm/305029496829?epid=230...</td>\n",
       "    </tr>\n",
       "  </tbody>\n",
       "</table>\n",
       "</div>"
      ],
      "text/plain": [
       "                                               Title  Price_sold  \\\n",
       "0                                       Shop on eBay       20.00   \n",
       "1  Influence and Persuasion (HBR Emotional Intell...        6.06   \n",
       "2  Power BI - Business Intelligence Clinic: Creat...       14.99   \n",
       "3  Intelligent Investor: The Definitive Book on V...       12.13   \n",
       "4    Isaack Onyango Business Intelligence (Hardback)      208.80   \n",
       "\n",
       "    Shipping_cost   Item_location                       Item_seller  \\\n",
       "0             0.0                                                     \n",
       "1   9.11 shipping  United Kingdom  worldofbooks08 (9,072,810) 99.1%   \n",
       "2  30.57 shipping   United States           chev1967_138 (563) 100%   \n",
       "3   9.11 shipping  United Kingdom  worldofbooks08 (9,072,810) 99.1%   \n",
       "4   3.63 shipping  United Kingdom  rarewaves-outlet (992,371) 98.8%   \n",
       "\n",
       "                                                Link  \n",
       "0  https://ebay.com/itm/123456?hash=item28caef0a3...  \n",
       "1  https://www.ebay.com/itm/143585166181?epid=239...  \n",
       "2  https://www.ebay.com/itm/186043394348?epid=603...  \n",
       "3  https://www.ebay.com/itm/304442680952?epid=872...  \n",
       "4  https://www.ebay.com/itm/305029496829?epid=230...  "
      ]
     },
     "execution_count": 7,
     "metadata": {},
     "output_type": "execute_result"
    }
   ],
   "source": [
    "book_data.head()"
   ]
  },
  {
   "cell_type": "code",
   "execution_count": 8,
   "id": "040b4364",
   "metadata": {
    "scrolled": true
   },
   "outputs": [
    {
     "data": {
      "text/html": [
       "<div>\n",
       "<style scoped>\n",
       "    .dataframe tbody tr th:only-of-type {\n",
       "        vertical-align: middle;\n",
       "    }\n",
       "\n",
       "    .dataframe tbody tr th {\n",
       "        vertical-align: top;\n",
       "    }\n",
       "\n",
       "    .dataframe thead th {\n",
       "        text-align: right;\n",
       "    }\n",
       "</style>\n",
       "<table border=\"1\" class=\"dataframe\">\n",
       "  <thead>\n",
       "    <tr style=\"text-align: right;\">\n",
       "      <th></th>\n",
       "      <th>Title</th>\n",
       "      <th>Price_sold</th>\n",
       "      <th>Shipping_cost</th>\n",
       "      <th>Item_location</th>\n",
       "      <th>Item_seller</th>\n",
       "      <th>Link</th>\n",
       "    </tr>\n",
       "  </thead>\n",
       "  <tbody>\n",
       "    <tr>\n",
       "      <th>71</th>\n",
       "      <td>Data Mining for Business Intelligence : Concep...</td>\n",
       "      <td>5.10</td>\n",
       "      <td>85.96 shipping</td>\n",
       "      <td>United States</td>\n",
       "      <td>anflo_413 (0) 0%</td>\n",
       "      <td>https://www.ebay.com/itm/404349057818?epid=844...</td>\n",
       "    </tr>\n",
       "    <tr>\n",
       "      <th>72</th>\n",
       "      <td>Pentaho Solutions: Business Intelligence and D...</td>\n",
       "      <td>16.74</td>\n",
       "      <td>5.12 shipping</td>\n",
       "      <td>United Kingdom</td>\n",
       "      <td>book_fountain (174,453) 99.2%</td>\n",
       "      <td>https://www.ebay.com/itm/175834848693?epid=955...</td>\n",
       "    </tr>\n",
       "    <tr>\n",
       "      <th>73</th>\n",
       "      <td>Stars and Spies: The story of Intelligence Ope...</td>\n",
       "      <td>10.88</td>\n",
       "      <td>23.32 shipping</td>\n",
       "      <td>United Kingdom</td>\n",
       "      <td>webuybooks (1,867,582) 99.3%</td>\n",
       "      <td>https://www.ebay.com/itm/155835665853?epid=110...</td>\n",
       "    </tr>\n",
       "    <tr>\n",
       "      <th>74</th>\n",
       "      <td>Microsoft Business Intelligence Tools for Exce...</td>\n",
       "      <td>75.00</td>\n",
       "      <td>23.49 shipping</td>\n",
       "      <td>United States</td>\n",
       "      <td>awesomebooksusa (397,115) 98%</td>\n",
       "      <td>https://www.ebay.com/itm/314753512807?epid=170...</td>\n",
       "    </tr>\n",
       "    <tr>\n",
       "      <th>75</th>\n",
       "      <td>Introduction to R for Business Intelligence - ...</td>\n",
       "      <td>28.86</td>\n",
       "      <td>26.24 shipping</td>\n",
       "      <td>United States</td>\n",
       "      <td>second.sale (2,860,466) 98.2%</td>\n",
       "      <td>https://www.ebay.com/itm/275629511052?epid=223...</td>\n",
       "    </tr>\n",
       "  </tbody>\n",
       "</table>\n",
       "</div>"
      ],
      "text/plain": [
       "                                                Title  Price_sold  \\\n",
       "71  Data Mining for Business Intelligence : Concep...        5.10   \n",
       "72  Pentaho Solutions: Business Intelligence and D...       16.74   \n",
       "73  Stars and Spies: The story of Intelligence Ope...       10.88   \n",
       "74  Microsoft Business Intelligence Tools for Exce...       75.00   \n",
       "75  Introduction to R for Business Intelligence - ...       28.86   \n",
       "\n",
       "     Shipping_cost   Item_location                    Item_seller  \\\n",
       "71  85.96 shipping   United States               anflo_413 (0) 0%   \n",
       "72   5.12 shipping  United Kingdom  book_fountain (174,453) 99.2%   \n",
       "73  23.32 shipping  United Kingdom   webuybooks (1,867,582) 99.3%   \n",
       "74  23.49 shipping   United States  awesomebooksusa (397,115) 98%   \n",
       "75  26.24 shipping   United States  second.sale (2,860,466) 98.2%   \n",
       "\n",
       "                                                 Link  \n",
       "71  https://www.ebay.com/itm/404349057818?epid=844...  \n",
       "72  https://www.ebay.com/itm/175834848693?epid=955...  \n",
       "73  https://www.ebay.com/itm/155835665853?epid=110...  \n",
       "74  https://www.ebay.com/itm/314753512807?epid=170...  \n",
       "75  https://www.ebay.com/itm/275629511052?epid=223...  "
      ]
     },
     "execution_count": 8,
     "metadata": {},
     "output_type": "execute_result"
    }
   ],
   "source": [
    "book_data.tail()"
   ]
  },
  {
   "cell_type": "code",
   "execution_count": 9,
   "id": "fd30c1f4",
   "metadata": {},
   "outputs": [
    {
     "name": "stdout",
     "output_type": "stream",
     "text": [
      "<class 'pandas.core.frame.DataFrame'>\n",
      "RangeIndex: 76 entries, 0 to 75\n",
      "Data columns (total 6 columns):\n",
      " #   Column         Non-Null Count  Dtype  \n",
      "---  ------         --------------  -----  \n",
      " 0   Title          76 non-null     object \n",
      " 1   Price_sold     76 non-null     float64\n",
      " 2   Shipping_cost  76 non-null     object \n",
      " 3   Item_location  76 non-null     object \n",
      " 4   Item_seller    76 non-null     object \n",
      " 5   Link           76 non-null     object \n",
      "dtypes: float64(1), object(5)\n",
      "memory usage: 3.7+ KB\n"
     ]
    }
   ],
   "source": [
    "book_data.info()"
   ]
  },
  {
   "cell_type": "markdown",
   "id": "461f7720",
   "metadata": {},
   "source": [
    "#### Save the data"
   ]
  },
  {
   "cell_type": "code",
   "execution_count": 10,
   "id": "3c4e413c",
   "metadata": {},
   "outputs": [],
   "source": [
    "file_path = r\"C:\\Users\\USER\\Documents\\Web_Scraping\\book_data.csv\"\n",
    "book_data.to_csv(file_path, index=True)"
   ]
  },
  {
   "cell_type": "code",
   "execution_count": null,
   "id": "a1907581",
   "metadata": {},
   "outputs": [],
   "source": []
  }
 ],
 "metadata": {
  "kernelspec": {
   "display_name": "Python 3 (ipykernel)",
   "language": "python",
   "name": "python3"
  },
  "language_info": {
   "codemirror_mode": {
    "name": "ipython",
    "version": 3
   },
   "file_extension": ".py",
   "mimetype": "text/x-python",
   "name": "python",
   "nbconvert_exporter": "python",
   "pygments_lexer": "ipython3",
   "version": "3.9.13"
  }
 },
 "nbformat": 4,
 "nbformat_minor": 5
}
