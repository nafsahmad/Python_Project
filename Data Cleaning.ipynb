{
 "cells": [
  {
   "cell_type": "code",
   "execution_count": 1,
   "id": "9a7c0088",
   "metadata": {},
   "outputs": [],
   "source": [
    "import pandas as pd"
   ]
  },
  {
   "cell_type": "code",
   "execution_count": 2,
   "id": "0a38786a",
   "metadata": {},
   "outputs": [],
   "source": [
    "data = pd.read_csv(r\"C:\\Users\\USER\\Documents\\Web_Scraping\\book_data.csv\")"
   ]
  },
  {
   "cell_type": "code",
   "execution_count": 3,
   "id": "7ce8fee6",
   "metadata": {
    "scrolled": true
   },
   "outputs": [
    {
     "data": {
      "text/html": [
       "<div>\n",
       "<style scoped>\n",
       "    .dataframe tbody tr th:only-of-type {\n",
       "        vertical-align: middle;\n",
       "    }\n",
       "\n",
       "    .dataframe tbody tr th {\n",
       "        vertical-align: top;\n",
       "    }\n",
       "\n",
       "    .dataframe thead th {\n",
       "        text-align: right;\n",
       "    }\n",
       "</style>\n",
       "<table border=\"1\" class=\"dataframe\">\n",
       "  <thead>\n",
       "    <tr style=\"text-align: right;\">\n",
       "      <th></th>\n",
       "      <th>Unnamed: 0</th>\n",
       "      <th>Title</th>\n",
       "      <th>Price_sold</th>\n",
       "      <th>Shipping_cost</th>\n",
       "      <th>Item_location</th>\n",
       "      <th>Item_seller</th>\n",
       "      <th>Link</th>\n",
       "    </tr>\n",
       "  </thead>\n",
       "  <tbody>\n",
       "    <tr>\n",
       "      <th>0</th>\n",
       "      <td>0</td>\n",
       "      <td>Shop on eBay</td>\n",
       "      <td>20.00</td>\n",
       "      <td>0.0</td>\n",
       "      <td>NaN</td>\n",
       "      <td>NaN</td>\n",
       "      <td>https://ebay.com/itm/123456?hash=item28caef0a3...</td>\n",
       "    </tr>\n",
       "    <tr>\n",
       "      <th>1</th>\n",
       "      <td>1</td>\n",
       "      <td>Intelligent Investor: The Definitive Book on V...</td>\n",
       "      <td>10.34</td>\n",
       "      <td>9.13 shipping</td>\n",
       "      <td>United Kingdom</td>\n",
       "      <td>worldofbooks08 (9,071,377) 99.1%</td>\n",
       "      <td>https://www.ebay.com/itm/304442680952?epid=872...</td>\n",
       "    </tr>\n",
       "    <tr>\n",
       "      <th>2</th>\n",
       "      <td>2</td>\n",
       "      <td>Power BI - Business Intelligence Clinic: Creat...</td>\n",
       "      <td>14.99</td>\n",
       "      <td>30.57 shipping</td>\n",
       "      <td>United States</td>\n",
       "      <td>chev1967_138 (563) 100%</td>\n",
       "      <td>https://www.ebay.com/itm/186043394348?epid=603...</td>\n",
       "    </tr>\n",
       "    <tr>\n",
       "      <th>3</th>\n",
       "      <td>3</td>\n",
       "      <td>Isaack Onyango Business Intelligence (Hardback)</td>\n",
       "      <td>209.40</td>\n",
       "      <td>3.64 shipping</td>\n",
       "      <td>United Kingdom</td>\n",
       "      <td>rarewaves-outlet (991,964) 98.8%</td>\n",
       "      <td>https://www.ebay.com/itm/305029496829?epid=230...</td>\n",
       "    </tr>\n",
       "    <tr>\n",
       "      <th>4</th>\n",
       "      <td>4</td>\n",
       "      <td>Business Intelligence : Practices, Technologie...</td>\n",
       "      <td>49.49</td>\n",
       "      <td>26.75 shipping</td>\n",
       "      <td>United States</td>\n",
       "      <td>vbbc2015 (13,262) 100%</td>\n",
       "      <td>https://www.ebay.com/itm/134303280275?epid=738...</td>\n",
       "    </tr>\n",
       "  </tbody>\n",
       "</table>\n",
       "</div>"
      ],
      "text/plain": [
       "   Unnamed: 0                                              Title  Price_sold  \\\n",
       "0           0                                       Shop on eBay       20.00   \n",
       "1           1  Intelligent Investor: The Definitive Book on V...       10.34   \n",
       "2           2  Power BI - Business Intelligence Clinic: Creat...       14.99   \n",
       "3           3    Isaack Onyango Business Intelligence (Hardback)      209.40   \n",
       "4           4  Business Intelligence : Practices, Technologie...       49.49   \n",
       "\n",
       "    Shipping_cost   Item_location                       Item_seller  \\\n",
       "0             0.0             NaN                               NaN   \n",
       "1   9.13 shipping  United Kingdom  worldofbooks08 (9,071,377) 99.1%   \n",
       "2  30.57 shipping   United States           chev1967_138 (563) 100%   \n",
       "3   3.64 shipping  United Kingdom  rarewaves-outlet (991,964) 98.8%   \n",
       "4  26.75 shipping   United States            vbbc2015 (13,262) 100%   \n",
       "\n",
       "                                                Link  \n",
       "0  https://ebay.com/itm/123456?hash=item28caef0a3...  \n",
       "1  https://www.ebay.com/itm/304442680952?epid=872...  \n",
       "2  https://www.ebay.com/itm/186043394348?epid=603...  \n",
       "3  https://www.ebay.com/itm/305029496829?epid=230...  \n",
       "4  https://www.ebay.com/itm/134303280275?epid=738...  "
      ]
     },
     "execution_count": 3,
     "metadata": {},
     "output_type": "execute_result"
    }
   ],
   "source": [
    "data.head()"
   ]
  },
  {
   "cell_type": "markdown",
   "id": "9182c556",
   "metadata": {},
   "source": [
    "#### Drop the first row and column"
   ]
  },
  {
   "cell_type": "code",
   "execution_count": 4,
   "id": "8fd8bc86",
   "metadata": {},
   "outputs": [],
   "source": [
    "data = data.iloc[1:, 1:]"
   ]
  },
  {
   "cell_type": "markdown",
   "id": "1449345d",
   "metadata": {},
   "source": [
    "#### Separate the 'Item_seller' column into three columns; Seller_name, Seller_feedback and Seller_rating. Then drop the 'Item_seller' column."
   ]
  },
  {
   "cell_type": "code",
   "execution_count": 5,
   "id": "a58dbfaf",
   "metadata": {},
   "outputs": [],
   "source": [
    "data[['Seller_name','Seller_feedback', 'Seller_Rating%']] = data['Item_seller'].str.split(' ', expand=True)\n",
    "data.drop(['Item_seller'], axis=1, inplace=True)"
   ]
  },
  {
   "cell_type": "code",
   "execution_count": 6,
   "id": "c7c958bb",
   "metadata": {},
   "outputs": [
    {
     "data": {
      "text/html": [
       "<div>\n",
       "<style scoped>\n",
       "    .dataframe tbody tr th:only-of-type {\n",
       "        vertical-align: middle;\n",
       "    }\n",
       "\n",
       "    .dataframe tbody tr th {\n",
       "        vertical-align: top;\n",
       "    }\n",
       "\n",
       "    .dataframe thead th {\n",
       "        text-align: right;\n",
       "    }\n",
       "</style>\n",
       "<table border=\"1\" class=\"dataframe\">\n",
       "  <thead>\n",
       "    <tr style=\"text-align: right;\">\n",
       "      <th></th>\n",
       "      <th>Title</th>\n",
       "      <th>Price_sold</th>\n",
       "      <th>Shipping_cost</th>\n",
       "      <th>Item_location</th>\n",
       "      <th>Link</th>\n",
       "      <th>Seller_name</th>\n",
       "      <th>Seller_feedback</th>\n",
       "      <th>Seller_Rating%</th>\n",
       "    </tr>\n",
       "  </thead>\n",
       "  <tbody>\n",
       "    <tr>\n",
       "      <th>1</th>\n",
       "      <td>Intelligent Investor: The Definitive Book on V...</td>\n",
       "      <td>10.34</td>\n",
       "      <td>9.13 shipping</td>\n",
       "      <td>United Kingdom</td>\n",
       "      <td>https://www.ebay.com/itm/304442680952?epid=872...</td>\n",
       "      <td>worldofbooks08</td>\n",
       "      <td>(9,071,377)</td>\n",
       "      <td>99.1%</td>\n",
       "    </tr>\n",
       "    <tr>\n",
       "      <th>2</th>\n",
       "      <td>Power BI - Business Intelligence Clinic: Creat...</td>\n",
       "      <td>14.99</td>\n",
       "      <td>30.57 shipping</td>\n",
       "      <td>United States</td>\n",
       "      <td>https://www.ebay.com/itm/186043394348?epid=603...</td>\n",
       "      <td>chev1967_138</td>\n",
       "      <td>(563)</td>\n",
       "      <td>100%</td>\n",
       "    </tr>\n",
       "  </tbody>\n",
       "</table>\n",
       "</div>"
      ],
      "text/plain": [
       "                                               Title  Price_sold  \\\n",
       "1  Intelligent Investor: The Definitive Book on V...       10.34   \n",
       "2  Power BI - Business Intelligence Clinic: Creat...       14.99   \n",
       "\n",
       "    Shipping_cost   Item_location  \\\n",
       "1   9.13 shipping  United Kingdom   \n",
       "2  30.57 shipping   United States   \n",
       "\n",
       "                                                Link     Seller_name  \\\n",
       "1  https://www.ebay.com/itm/304442680952?epid=872...  worldofbooks08   \n",
       "2  https://www.ebay.com/itm/186043394348?epid=603...    chev1967_138   \n",
       "\n",
       "  Seller_feedback Seller_Rating%  \n",
       "1     (9,071,377)          99.1%  \n",
       "2           (563)           100%  "
      ]
     },
     "execution_count": 6,
     "metadata": {},
     "output_type": "execute_result"
    }
   ],
   "source": [
    "data.head(2)"
   ]
  },
  {
   "cell_type": "markdown",
   "id": "8ffc26c0",
   "metadata": {},
   "source": [
    "#### Check for null values"
   ]
  },
  {
   "cell_type": "code",
   "execution_count": 7,
   "id": "2a44e4dc",
   "metadata": {
    "scrolled": false
   },
   "outputs": [
    {
     "data": {
      "text/plain": [
       "Title              0\n",
       "Price_sold         0\n",
       "Shipping_cost      0\n",
       "Item_location      3\n",
       "Link               0\n",
       "Seller_name        3\n",
       "Seller_feedback    3\n",
       "Seller_Rating%     3\n",
       "dtype: int64"
      ]
     },
     "execution_count": 7,
     "metadata": {},
     "output_type": "execute_result"
    }
   ],
   "source": [
    "data.isnull().sum()"
   ]
  },
  {
   "cell_type": "code",
   "execution_count": 8,
   "id": "84919ca8",
   "metadata": {},
   "outputs": [],
   "source": [
    "data = data.dropna()"
   ]
  },
  {
   "cell_type": "code",
   "execution_count": 9,
   "id": "e95eca28",
   "metadata": {},
   "outputs": [],
   "source": [
    "data = data.copy()"
   ]
  },
  {
   "cell_type": "markdown",
   "id": "b48164e0",
   "metadata": {},
   "source": [
    "#### Remove the brackets from the 'Seller_feedback' column and convert to appropriate datatype"
   ]
  },
  {
   "cell_type": "code",
   "execution_count": 10,
   "id": "124abde7",
   "metadata": {},
   "outputs": [],
   "source": [
    "data['Seller_feedback'] = data['Seller_feedback'].str.replace('[(),]', '', regex=True)"
   ]
  },
  {
   "cell_type": "code",
   "execution_count": 11,
   "id": "9f681b7b",
   "metadata": {},
   "outputs": [],
   "source": [
    "data['Seller_feedback'] =data['Seller_feedback'].astype(int)"
   ]
  },
  {
   "cell_type": "code",
   "execution_count": 12,
   "id": "956e2ed5",
   "metadata": {},
   "outputs": [
    {
     "data": {
      "text/html": [
       "<div>\n",
       "<style scoped>\n",
       "    .dataframe tbody tr th:only-of-type {\n",
       "        vertical-align: middle;\n",
       "    }\n",
       "\n",
       "    .dataframe tbody tr th {\n",
       "        vertical-align: top;\n",
       "    }\n",
       "\n",
       "    .dataframe thead th {\n",
       "        text-align: right;\n",
       "    }\n",
       "</style>\n",
       "<table border=\"1\" class=\"dataframe\">\n",
       "  <thead>\n",
       "    <tr style=\"text-align: right;\">\n",
       "      <th></th>\n",
       "      <th>Title</th>\n",
       "      <th>Price_sold</th>\n",
       "      <th>Shipping_cost</th>\n",
       "      <th>Item_location</th>\n",
       "      <th>Link</th>\n",
       "      <th>Seller_name</th>\n",
       "      <th>Seller_feedback</th>\n",
       "      <th>Seller_Rating%</th>\n",
       "    </tr>\n",
       "  </thead>\n",
       "  <tbody>\n",
       "    <tr>\n",
       "      <th>1</th>\n",
       "      <td>Intelligent Investor: The Definitive Book on V...</td>\n",
       "      <td>10.34</td>\n",
       "      <td>9.13 shipping</td>\n",
       "      <td>United Kingdom</td>\n",
       "      <td>https://www.ebay.com/itm/304442680952?epid=872...</td>\n",
       "      <td>worldofbooks08</td>\n",
       "      <td>9071377</td>\n",
       "      <td>99.1%</td>\n",
       "    </tr>\n",
       "    <tr>\n",
       "      <th>2</th>\n",
       "      <td>Power BI - Business Intelligence Clinic: Creat...</td>\n",
       "      <td>14.99</td>\n",
       "      <td>30.57 shipping</td>\n",
       "      <td>United States</td>\n",
       "      <td>https://www.ebay.com/itm/186043394348?epid=603...</td>\n",
       "      <td>chev1967_138</td>\n",
       "      <td>563</td>\n",
       "      <td>100%</td>\n",
       "    </tr>\n",
       "  </tbody>\n",
       "</table>\n",
       "</div>"
      ],
      "text/plain": [
       "                                               Title  Price_sold  \\\n",
       "1  Intelligent Investor: The Definitive Book on V...       10.34   \n",
       "2  Power BI - Business Intelligence Clinic: Creat...       14.99   \n",
       "\n",
       "    Shipping_cost   Item_location  \\\n",
       "1   9.13 shipping  United Kingdom   \n",
       "2  30.57 shipping   United States   \n",
       "\n",
       "                                                Link     Seller_name  \\\n",
       "1  https://www.ebay.com/itm/304442680952?epid=872...  worldofbooks08   \n",
       "2  https://www.ebay.com/itm/186043394348?epid=603...    chev1967_138   \n",
       "\n",
       "   Seller_feedback Seller_Rating%  \n",
       "1          9071377          99.1%  \n",
       "2              563           100%  "
      ]
     },
     "execution_count": 12,
     "metadata": {},
     "output_type": "execute_result"
    }
   ],
   "source": [
    "data.head(2)"
   ]
  },
  {
   "cell_type": "markdown",
   "id": "9ae84934",
   "metadata": {},
   "source": [
    "#### Remove the Percentage % sign from the 'Seller_Rating%' column and convert to appropriate datatype"
   ]
  },
  {
   "cell_type": "code",
   "execution_count": 13,
   "id": "e63a08b9",
   "metadata": {},
   "outputs": [],
   "source": [
    "data['Seller_Rating%'] = data['Seller_Rating%'].str.replace('%', '', regex=True)"
   ]
  },
  {
   "cell_type": "code",
   "execution_count": 14,
   "id": "ec452a1c",
   "metadata": {},
   "outputs": [],
   "source": [
    "data['Seller_Rating%'] = data['Seller_Rating%'].astype(float)"
   ]
  },
  {
   "cell_type": "code",
   "execution_count": 15,
   "id": "588bc207",
   "metadata": {},
   "outputs": [
    {
     "data": {
      "text/html": [
       "<div>\n",
       "<style scoped>\n",
       "    .dataframe tbody tr th:only-of-type {\n",
       "        vertical-align: middle;\n",
       "    }\n",
       "\n",
       "    .dataframe tbody tr th {\n",
       "        vertical-align: top;\n",
       "    }\n",
       "\n",
       "    .dataframe thead th {\n",
       "        text-align: right;\n",
       "    }\n",
       "</style>\n",
       "<table border=\"1\" class=\"dataframe\">\n",
       "  <thead>\n",
       "    <tr style=\"text-align: right;\">\n",
       "      <th></th>\n",
       "      <th>Title</th>\n",
       "      <th>Price_sold</th>\n",
       "      <th>Shipping_cost</th>\n",
       "      <th>Item_location</th>\n",
       "      <th>Link</th>\n",
       "      <th>Seller_name</th>\n",
       "      <th>Seller_feedback</th>\n",
       "      <th>Seller_Rating%</th>\n",
       "    </tr>\n",
       "  </thead>\n",
       "  <tbody>\n",
       "    <tr>\n",
       "      <th>1</th>\n",
       "      <td>Intelligent Investor: The Definitive Book on V...</td>\n",
       "      <td>10.34</td>\n",
       "      <td>9.13 shipping</td>\n",
       "      <td>United Kingdom</td>\n",
       "      <td>https://www.ebay.com/itm/304442680952?epid=872...</td>\n",
       "      <td>worldofbooks08</td>\n",
       "      <td>9071377</td>\n",
       "      <td>99.1</td>\n",
       "    </tr>\n",
       "    <tr>\n",
       "      <th>2</th>\n",
       "      <td>Power BI - Business Intelligence Clinic: Creat...</td>\n",
       "      <td>14.99</td>\n",
       "      <td>30.57 shipping</td>\n",
       "      <td>United States</td>\n",
       "      <td>https://www.ebay.com/itm/186043394348?epid=603...</td>\n",
       "      <td>chev1967_138</td>\n",
       "      <td>563</td>\n",
       "      <td>100.0</td>\n",
       "    </tr>\n",
       "  </tbody>\n",
       "</table>\n",
       "</div>"
      ],
      "text/plain": [
       "                                               Title  Price_sold  \\\n",
       "1  Intelligent Investor: The Definitive Book on V...       10.34   \n",
       "2  Power BI - Business Intelligence Clinic: Creat...       14.99   \n",
       "\n",
       "    Shipping_cost   Item_location  \\\n",
       "1   9.13 shipping  United Kingdom   \n",
       "2  30.57 shipping   United States   \n",
       "\n",
       "                                                Link     Seller_name  \\\n",
       "1  https://www.ebay.com/itm/304442680952?epid=872...  worldofbooks08   \n",
       "2  https://www.ebay.com/itm/186043394348?epid=603...    chev1967_138   \n",
       "\n",
       "   Seller_feedback  Seller_Rating%  \n",
       "1          9071377            99.1  \n",
       "2              563           100.0  "
      ]
     },
     "execution_count": 15,
     "metadata": {},
     "output_type": "execute_result"
    }
   ],
   "source": [
    "data.head(2)"
   ]
  },
  {
   "cell_type": "markdown",
   "id": "d4f3bef8",
   "metadata": {},
   "source": [
    "#### Create new columns; shipping price and shipping type from 'Shipping_cost' column"
   ]
  },
  {
   "cell_type": "code",
   "execution_count": 16,
   "id": "a68171ca",
   "metadata": {},
   "outputs": [],
   "source": [
    "data[['Shipping_price', 'Shipping_type']] = data['Shipping_cost'].str.extract('([\\d\\.]+)\\s*([a-zA-Z\\s]+)', expand=True)"
   ]
  },
  {
   "cell_type": "markdown",
   "id": "57aa3edb",
   "metadata": {},
   "source": [
    "#### Remove the column 'Shipping_cost'"
   ]
  },
  {
   "cell_type": "code",
   "execution_count": 17,
   "id": "001dfda6",
   "metadata": {},
   "outputs": [],
   "source": [
    "data.drop(['Shipping_cost'], axis=1, inplace=True)"
   ]
  },
  {
   "cell_type": "code",
   "execution_count": 18,
   "id": "51fb8891",
   "metadata": {},
   "outputs": [
    {
     "data": {
      "text/html": [
       "<div>\n",
       "<style scoped>\n",
       "    .dataframe tbody tr th:only-of-type {\n",
       "        vertical-align: middle;\n",
       "    }\n",
       "\n",
       "    .dataframe tbody tr th {\n",
       "        vertical-align: top;\n",
       "    }\n",
       "\n",
       "    .dataframe thead th {\n",
       "        text-align: right;\n",
       "    }\n",
       "</style>\n",
       "<table border=\"1\" class=\"dataframe\">\n",
       "  <thead>\n",
       "    <tr style=\"text-align: right;\">\n",
       "      <th></th>\n",
       "      <th>Title</th>\n",
       "      <th>Price_sold</th>\n",
       "      <th>Item_location</th>\n",
       "      <th>Link</th>\n",
       "      <th>Seller_name</th>\n",
       "      <th>Seller_feedback</th>\n",
       "      <th>Seller_Rating%</th>\n",
       "      <th>Shipping_price</th>\n",
       "      <th>Shipping_type</th>\n",
       "    </tr>\n",
       "  </thead>\n",
       "  <tbody>\n",
       "    <tr>\n",
       "      <th>1</th>\n",
       "      <td>Intelligent Investor: The Definitive Book on V...</td>\n",
       "      <td>10.34</td>\n",
       "      <td>United Kingdom</td>\n",
       "      <td>https://www.ebay.com/itm/304442680952?epid=872...</td>\n",
       "      <td>worldofbooks08</td>\n",
       "      <td>9071377</td>\n",
       "      <td>99.1</td>\n",
       "      <td>9.13</td>\n",
       "      <td>shipping</td>\n",
       "    </tr>\n",
       "    <tr>\n",
       "      <th>2</th>\n",
       "      <td>Power BI - Business Intelligence Clinic: Creat...</td>\n",
       "      <td>14.99</td>\n",
       "      <td>United States</td>\n",
       "      <td>https://www.ebay.com/itm/186043394348?epid=603...</td>\n",
       "      <td>chev1967_138</td>\n",
       "      <td>563</td>\n",
       "      <td>100.0</td>\n",
       "      <td>30.57</td>\n",
       "      <td>shipping</td>\n",
       "    </tr>\n",
       "  </tbody>\n",
       "</table>\n",
       "</div>"
      ],
      "text/plain": [
       "                                               Title  Price_sold  \\\n",
       "1  Intelligent Investor: The Definitive Book on V...       10.34   \n",
       "2  Power BI - Business Intelligence Clinic: Creat...       14.99   \n",
       "\n",
       "    Item_location                                               Link  \\\n",
       "1  United Kingdom  https://www.ebay.com/itm/304442680952?epid=872...   \n",
       "2   United States  https://www.ebay.com/itm/186043394348?epid=603...   \n",
       "\n",
       "      Seller_name  Seller_feedback  Seller_Rating% Shipping_price  \\\n",
       "1  worldofbooks08          9071377            99.1           9.13   \n",
       "2    chev1967_138              563           100.0          30.57   \n",
       "\n",
       "  Shipping_type  \n",
       "1      shipping  \n",
       "2      shipping  "
      ]
     },
     "execution_count": 18,
     "metadata": {},
     "output_type": "execute_result"
    }
   ],
   "source": [
    "data.head(2)"
   ]
  },
  {
   "cell_type": "code",
   "execution_count": 19,
   "id": "3358656a",
   "metadata": {},
   "outputs": [
    {
     "data": {
      "text/plain": [
       "array(['shipping', nan], dtype=object)"
      ]
     },
     "execution_count": 19,
     "metadata": {},
     "output_type": "execute_result"
    }
   ],
   "source": [
    "data['Shipping_type'].unique()"
   ]
  },
  {
   "cell_type": "markdown",
   "id": "3ef84fd7",
   "metadata": {},
   "source": [
    "The 'shipping_type' column contains only one value.  "
   ]
  },
  {
   "cell_type": "markdown",
   "id": "f3a4c697",
   "metadata": {},
   "source": [
    "####  Add \"paid\" in front of \"shipping\" in the Shipping_type column"
   ]
  },
  {
   "cell_type": "code",
   "execution_count": 20,
   "id": "58068d53",
   "metadata": {},
   "outputs": [],
   "source": [
    "data['Shipping_type'] = 'Paid ' + data['Shipping_type'].str.replace('shipping', 'shipping', regex=True)"
   ]
  },
  {
   "cell_type": "markdown",
   "id": "04d75dda",
   "metadata": {},
   "source": [
    "#### Fill the NaN values in the Shipping_type column with 'Free shipping'"
   ]
  },
  {
   "cell_type": "code",
   "execution_count": 21,
   "id": "5d1ac002",
   "metadata": {},
   "outputs": [],
   "source": [
    "data['Shipping_type'] = data['Shipping_type'].fillna('Free shipping')"
   ]
  },
  {
   "cell_type": "markdown",
   "id": "bd086826",
   "metadata": {},
   "source": [
    "#### Fill the NaN values in the Shipping_price with 0"
   ]
  },
  {
   "cell_type": "code",
   "execution_count": 22,
   "id": "d6845793",
   "metadata": {},
   "outputs": [],
   "source": [
    "data['Shipping_price'] = data['Shipping_price'].fillna(0)"
   ]
  },
  {
   "cell_type": "markdown",
   "id": "99aad239",
   "metadata": {},
   "source": [
    "#### Convert data type of 'Shipping_price' to float"
   ]
  },
  {
   "cell_type": "code",
   "execution_count": 23,
   "id": "5b518fb4",
   "metadata": {},
   "outputs": [],
   "source": [
    "data['Shipping_price'] = data['Shipping_price'].astype(float)"
   ]
  },
  {
   "cell_type": "code",
   "execution_count": 24,
   "id": "da45c19c",
   "metadata": {},
   "outputs": [
    {
     "data": {
      "text/html": [
       "<div>\n",
       "<style scoped>\n",
       "    .dataframe tbody tr th:only-of-type {\n",
       "        vertical-align: middle;\n",
       "    }\n",
       "\n",
       "    .dataframe tbody tr th {\n",
       "        vertical-align: top;\n",
       "    }\n",
       "\n",
       "    .dataframe thead th {\n",
       "        text-align: right;\n",
       "    }\n",
       "</style>\n",
       "<table border=\"1\" class=\"dataframe\">\n",
       "  <thead>\n",
       "    <tr style=\"text-align: right;\">\n",
       "      <th></th>\n",
       "      <th>Title</th>\n",
       "      <th>Price_sold</th>\n",
       "      <th>Item_location</th>\n",
       "      <th>Link</th>\n",
       "      <th>Seller_name</th>\n",
       "      <th>Seller_feedback</th>\n",
       "      <th>Seller_Rating%</th>\n",
       "      <th>Shipping_price</th>\n",
       "      <th>Shipping_type</th>\n",
       "    </tr>\n",
       "  </thead>\n",
       "  <tbody>\n",
       "    <tr>\n",
       "      <th>1</th>\n",
       "      <td>Intelligent Investor: The Definitive Book on V...</td>\n",
       "      <td>10.34</td>\n",
       "      <td>United Kingdom</td>\n",
       "      <td>https://www.ebay.com/itm/304442680952?epid=872...</td>\n",
       "      <td>worldofbooks08</td>\n",
       "      <td>9071377</td>\n",
       "      <td>99.1</td>\n",
       "      <td>9.13</td>\n",
       "      <td>Paid shipping</td>\n",
       "    </tr>\n",
       "    <tr>\n",
       "      <th>2</th>\n",
       "      <td>Power BI - Business Intelligence Clinic: Creat...</td>\n",
       "      <td>14.99</td>\n",
       "      <td>United States</td>\n",
       "      <td>https://www.ebay.com/itm/186043394348?epid=603...</td>\n",
       "      <td>chev1967_138</td>\n",
       "      <td>563</td>\n",
       "      <td>100.0</td>\n",
       "      <td>30.57</td>\n",
       "      <td>Paid shipping</td>\n",
       "    </tr>\n",
       "    <tr>\n",
       "      <th>3</th>\n",
       "      <td>Isaack Onyango Business Intelligence (Hardback)</td>\n",
       "      <td>209.40</td>\n",
       "      <td>United Kingdom</td>\n",
       "      <td>https://www.ebay.com/itm/305029496829?epid=230...</td>\n",
       "      <td>rarewaves-outlet</td>\n",
       "      <td>991964</td>\n",
       "      <td>98.8</td>\n",
       "      <td>3.64</td>\n",
       "      <td>Paid shipping</td>\n",
       "    </tr>\n",
       "    <tr>\n",
       "      <th>4</th>\n",
       "      <td>Business Intelligence : Practices, Technologie...</td>\n",
       "      <td>49.49</td>\n",
       "      <td>United States</td>\n",
       "      <td>https://www.ebay.com/itm/134303280275?epid=738...</td>\n",
       "      <td>vbbc2015</td>\n",
       "      <td>13262</td>\n",
       "      <td>100.0</td>\n",
       "      <td>26.75</td>\n",
       "      <td>Paid shipping</td>\n",
       "    </tr>\n",
       "    <tr>\n",
       "      <th>5</th>\n",
       "      <td>Power BI f?r Dummies: Der schnelle Einstieg in...</td>\n",
       "      <td>10.74</td>\n",
       "      <td>United Kingdom</td>\n",
       "      <td>https://www.ebay.com/itm/155732377311?epid=100...</td>\n",
       "      <td>webuybooks</td>\n",
       "      <td>1866890</td>\n",
       "      <td>99.3</td>\n",
       "      <td>22.16</td>\n",
       "      <td>Paid shipping</td>\n",
       "    </tr>\n",
       "  </tbody>\n",
       "</table>\n",
       "</div>"
      ],
      "text/plain": [
       "                                               Title  Price_sold  \\\n",
       "1  Intelligent Investor: The Definitive Book on V...       10.34   \n",
       "2  Power BI - Business Intelligence Clinic: Creat...       14.99   \n",
       "3    Isaack Onyango Business Intelligence (Hardback)      209.40   \n",
       "4  Business Intelligence : Practices, Technologie...       49.49   \n",
       "5  Power BI f?r Dummies: Der schnelle Einstieg in...       10.74   \n",
       "\n",
       "    Item_location                                               Link  \\\n",
       "1  United Kingdom  https://www.ebay.com/itm/304442680952?epid=872...   \n",
       "2   United States  https://www.ebay.com/itm/186043394348?epid=603...   \n",
       "3  United Kingdom  https://www.ebay.com/itm/305029496829?epid=230...   \n",
       "4   United States  https://www.ebay.com/itm/134303280275?epid=738...   \n",
       "5  United Kingdom  https://www.ebay.com/itm/155732377311?epid=100...   \n",
       "\n",
       "        Seller_name  Seller_feedback  Seller_Rating%  Shipping_price  \\\n",
       "1    worldofbooks08          9071377            99.1            9.13   \n",
       "2      chev1967_138              563           100.0           30.57   \n",
       "3  rarewaves-outlet           991964            98.8            3.64   \n",
       "4          vbbc2015            13262           100.0           26.75   \n",
       "5        webuybooks          1866890            99.3           22.16   \n",
       "\n",
       "   Shipping_type  \n",
       "1  Paid shipping  \n",
       "2  Paid shipping  \n",
       "3  Paid shipping  \n",
       "4  Paid shipping  \n",
       "5  Paid shipping  "
      ]
     },
     "execution_count": 24,
     "metadata": {},
     "output_type": "execute_result"
    }
   ],
   "source": [
    "data.head()"
   ]
  },
  {
   "cell_type": "markdown",
   "id": "af29873e",
   "metadata": {},
   "source": [
    "#### Save the data"
   ]
  },
  {
   "cell_type": "code",
   "execution_count": 25,
   "id": "a7a085e2",
   "metadata": {},
   "outputs": [],
   "source": [
    "file_path = r\"C:\\Users\\USER\\Documents\\Data_Cleaning\\clean_data.csv\"\n",
    "data.to_csv(file_path, index=True)"
   ]
  },
  {
   "cell_type": "code",
   "execution_count": null,
   "id": "349230a4",
   "metadata": {},
   "outputs": [],
   "source": []
  }
 ],
 "metadata": {
  "kernelspec": {
   "display_name": "Python 3 (ipykernel)",
   "language": "python",
   "name": "python3"
  },
  "language_info": {
   "codemirror_mode": {
    "name": "ipython",
    "version": 3
   },
   "file_extension": ".py",
   "mimetype": "text/x-python",
   "name": "python",
   "nbconvert_exporter": "python",
   "pygments_lexer": "ipython3",
   "version": "3.9.13"
  }
 },
 "nbformat": 4,
 "nbformat_minor": 5
}
